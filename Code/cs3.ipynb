{
 "cells": [
  {
   "cell_type": "markdown",
   "metadata": {},
   "source": [
    "### Assignment 3"
   ]
  },
  {
   "cell_type": "markdown",
   "metadata": {},
   "source": [
    "Name: Om Umrania\n",
    "<br />\n",
    "Roll Number: TEAD21163\n",
    "<br />\n",
    "Subject: Mini-Project"
   ]
  },
  {
   "cell_type": "markdown",
   "metadata": {},
   "source": [
    "#### Importing Library"
   ]
  },
  {
   "cell_type": "code",
   "execution_count": 11,
   "metadata": {
    "id": "LSxkPTrqa5RL"
   },
   "outputs": [],
   "source": [
    "from random import randint"
   ]
  },
  {
   "cell_type": "code",
   "execution_count": 12,
   "metadata": {
    "colab": {
     "base_uri": "https://localhost:8080/"
    },
    "id": "Whx9NtvEbBWM",
    "outputId": "e38211a6-73be-4657-9462-ad53670af575"
   },
   "outputs": [
    {
     "name": "stdout",
     "output_type": "stream",
     "text": [
      "The Value of P is :18\n",
      "The Value of G is :29\n"
     ]
    }
   ],
   "source": [
    "# Both the persons will be agreed upon the\n",
    "# public keys G and P\n",
    "# A prime number P is taken\n",
    "P = 18\n",
    "# A primitive root for P, G is taken\n",
    "G = 29\n",
    "print( 'The Value of P is :%d'%(P))\n",
    "print('The Value of G is :%d'%(G))"
   ]
  },
  {
   "cell_type": "code",
   "execution_count": 13,
   "metadata": {
    "colab": {
     "base_uri": "https://localhost:8080/"
    },
    "id": "swbX90MIbHIR",
    "outputId": "7b3bbb81-3a0b-4123-e63c-eb7737a2167c"
   },
   "outputs": [
    {
     "name": "stdout",
     "output_type": "stream",
     "text": [
      "The Private Key a for Alice is :1\n"
     ]
    }
   ],
   "source": [
    "# Alice will choose the private key a\n",
    "a = 1\n",
    "print ('The Private Key a for Alice is :%d'%(a))"
   ]
  },
  {
   "cell_type": "code",
   "execution_count": 14,
   "metadata": {
    "colab": {
     "base_uri": "https://localhost:8080/"
    },
    "id": "qVhOVFhubPxm",
    "outputId": "a53e3962-f9b9-4d44-db89-8d2df33bd1e4"
   },
   "outputs": [
    {
     "name": "stdout",
     "output_type": "stream",
     "text": [
      "The Private Key b for Bob is :6\n"
     ]
    }
   ],
   "source": [
    "# gets the generated key\n",
    "x = int (pow(G, a,P))\n",
    "# Bob will choose the private key b\n",
    "b = 6\n",
    "\n",
    "print ('The Private Key b for Bob is :%d'% (b))"
   ]
  },
  {
   "cell_type": "code",
   "execution_count": 15,
   "metadata": {
    "colab": {
     "base_uri": "https://localhost:8080/"
    },
    "id": "EMa5L-YNbVei",
    "outputId": "fb5ddb66-8a74-48fa-9e3e-97f3cba15caf"
   },
   "outputs": [
    {
     "name": "stdout",
     "output_type": "stream",
     "text": [
      "Secret key for the Alice is : 1\n",
      "Secret Key for the Bob is : 1\n"
     ]
    }
   ],
   "source": [
    "# gets the generated key\n",
    "y = int (pow (G, b,P))\n",
    "# Secret key for Alice\n",
    "ka = int (pow(y, a,P))\n",
    "# Secret key for Bob\n",
    "kb = int (pow(x, b,P))\n",
    "print('Secret key for the Alice is : %d'% (ka))\n",
    "print('Secret Key for the Bob is : %d'% (kb))"
   ]
  }
 ],
 "metadata": {
  "colab": {
   "provenance": []
  },
  "kernelspec": {
   "display_name": "Python 3 (ipykernel)",
   "language": "python",
   "name": "python3"
  },
  "language_info": {
   "codemirror_mode": {
    "name": "ipython",
    "version": 3
   },
   "file_extension": ".py",
   "mimetype": "text/x-python",
   "name": "python",
   "nbconvert_exporter": "python",
   "pygments_lexer": "ipython3",
   "version": "3.9.12"
  }
 },
 "nbformat": 4,
 "nbformat_minor": 4
}
