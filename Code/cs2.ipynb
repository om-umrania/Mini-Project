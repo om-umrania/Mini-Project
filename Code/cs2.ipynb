{
 "cells": [
  {
   "cell_type": "markdown",
   "metadata": {
    "tags": []
   },
   "source": [
    "### Assignment 2"
   ]
  },
  {
   "cell_type": "markdown",
   "metadata": {},
   "source": [
    "Name: Om Umrania\n",
    "<br />\n",
    "Roll Number: TEAD21163\n",
    "<br />\n",
    "Subject: Mini-Project"
   ]
  },
  {
   "cell_type": "markdown",
   "metadata": {},
   "source": [
    "#### Installation of Library"
   ]
  },
  {
   "cell_type": "code",
   "execution_count": 6,
   "metadata": {
    "colab": {
     "base_uri": "https://localhost:8080/"
    },
    "id": "jY1GAL8OHUAO",
    "outputId": "ee3cd2d2-d036-418c-8f3e-f38da87c81df"
   },
   "outputs": [
    {
     "name": "stdout",
     "output_type": "stream",
     "text": [
      "Requirement already satisfied: pycryptodome in /Users/omumrania/opt/anaconda3/lib/python3.9/site-packages (3.20.0)\n",
      "Requirement already satisfied: pyDes in /Users/omumrania/opt/anaconda3/lib/python3.9/site-packages (2.0.1)\n"
     ]
    }
   ],
   "source": [
    "!pip install pycryptodome\n",
    "!pip install pyDes"
   ]
  },
  {
   "cell_type": "markdown",
   "metadata": {},
   "source": [
    "#### Importing Library"
   ]
  },
  {
   "cell_type": "code",
   "execution_count": 7,
   "metadata": {},
   "outputs": [],
   "source": [
    "from Crypto.Cipher import AES\n",
    "from Crypto.Util.Padding import pad, unpad\n",
    "from Crypto.Random import get_random_bytes"
   ]
  },
  {
   "cell_type": "code",
   "execution_count": 8,
   "metadata": {},
   "outputs": [],
   "source": [
    "def get_padded_key(key):\n",
    "    # Ensure the key is properly padded to 16, 24, or 32 bytes\n",
    "    return pad(key.encode(), AES.block_size)\n",
    "\n",
    "def encrypt(plain_text, key):\n",
    "    # Pad the key and plaintext\n",
    "    padded_key = get_padded_key(key)\n",
    "    padded_text = pad(plain_text.encode(), AES.block_size)\n",
    "\n",
    "    # Generate a random IV\n",
    "    iv = get_random_bytes(AES.block_size)\n",
    "\n",
    "    # Create cipher object and encrypt\n",
    "    cipher = AES.new(padded_key, AES.MODE_CBC, iv)\n",
    "    encrypted_text = cipher.encrypt(padded_text)\n",
    "\n",
    "    # Return IV + encrypted_text to ensure IV is available for decryption\n",
    "    return iv + encrypted_text\n",
    "\n",
    "def decrypt(encrypted_message, key):\n",
    "    # Separate the IV from the rest of the encrypted message\n",
    "    iv = encrypted_message[:AES.block_size]\n",
    "    encrypted_text = encrypted_message[AES.block_size:]\n",
    "\n",
    "    # Pad the key\n",
    "    padded_key = get_padded_key(key)\n",
    "\n",
    "    # Decrypt\n",
    "    cipher = AES.new(padded_key, AES.MODE_CBC, iv)\n",
    "    decrypted_text = unpad(cipher.decrypt(encrypted_text), AES.block_size)\n",
    "\n",
    "    return decrypted_text.decode()"
   ]
  },
  {
   "cell_type": "markdown",
   "metadata": {},
   "source": [
    "#### Get user input"
   ]
  },
  {
   "cell_type": "code",
   "execution_count": 9,
   "metadata": {},
   "outputs": [
    {
     "name": "stdin",
     "output_type": "stream",
     "text": [
      "Enter the text to be encrypted:  Hello World!\n",
      "Enter in a key (will be padded if not 16, 24, or 32 characters):  aaaaBBBBccccDDDD\n"
     ]
    }
   ],
   "source": [
    "plain_input = input(\"Enter the text to be encrypted: \")\n",
    "key_input = input(\"Enter in a key (will be padded if not 16, 24, or 32 characters): \")"
   ]
  },
  {
   "cell_type": "markdown",
   "metadata": {},
   "source": [
    "#### Check key length (not strictly necessary with padding but good for demonstration)"
   ]
  },
  {
   "cell_type": "code",
   "execution_count": 10,
   "metadata": {
    "colab": {
     "base_uri": "https://localhost:8080/"
    },
    "id": "8zrmhMemHAAH",
    "outputId": "eec093c9-562c-4f67-af19-06d04a6f3ff7"
   },
   "outputs": [
    {
     "name": "stdout",
     "output_type": "stream",
     "text": [
      "Encrypted: b'\\x87kv\\x1cY\\xfb`\\xb1L\\xf9\\xe9\\x17\\x80\\x97\\xe692\\xaf:\\xaeG#\\xa4NSBV\\xc9\\xa3\\xc5\\x94\\x82'\n",
      "Decrypted: Hello World!\n"
     ]
    }
   ],
   "source": [
    "if not (16 <= len(key_input) <= 32):\n",
    "    print(\"Key must be between 16 and 32 characters for raw AES keys without padding!\")\n",
    "else:\n",
    "    # Encrypt\n",
    "    encrypted_message = encrypt(plain_input, key_input)\n",
    "    print(\"Encrypted:\", encrypted_message)\n",
    "\n",
    "    # Decrypt\n",
    "    decrypted_message = decrypt(encrypted_message, key_input)\n",
    "    print(\"Decrypted:\", decrypted_message)"
   ]
  },
  {
   "cell_type": "code",
   "execution_count": null,
   "metadata": {},
   "outputs": [],
   "source": []
  }
 ],
 "metadata": {
  "colab": {
   "provenance": []
  },
  "kernelspec": {
   "display_name": "Python 3 (ipykernel)",
   "language": "python",
   "name": "python3"
  },
  "language_info": {
   "codemirror_mode": {
    "name": "ipython",
    "version": 3
   },
   "file_extension": ".py",
   "mimetype": "text/x-python",
   "name": "python",
   "nbconvert_exporter": "python",
   "pygments_lexer": "ipython3",
   "version": "3.9.12"
  }
 },
 "nbformat": 4,
 "nbformat_minor": 4
}
