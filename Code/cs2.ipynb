{
  "metadata": {
    "kernelspec": {
      "name": "python",
      "display_name": "Python (Pyodide)",
      "language": "python"
    },
    "language_info": {
      "codemirror_mode": {
        "name": "python",
        "version": 3
      },
      "file_extension": ".py",
      "mimetype": "text/x-python",
      "name": "python",
      "nbconvert_exporter": "python",
      "pygments_lexer": "ipython3",
      "version": "3.8"
    },
    "colab": {
      "provenance": []
    }
  },
  "nbformat_minor": 4,
  "nbformat": 4,
  "cells": [
    {
      "cell_type": "markdown",
      "source": "## MINIPROJECT LAB: Assignment 1",
      "metadata": {}
    },
    {
      "cell_type": "code",
      "source": "!pip install pycryptodome\n!pip install pyDes",
      "metadata": {
        "colab": {
          "base_uri": "https://localhost:8080/"
        },
        "id": "wqnLbrZlIT60",
        "outputId": "62339e54-2d07-4b0c-9a77-9f87bc2b126d"
      },
      "outputs": [
        {
          "output_type": "stream",
          "name": "stdout",
          "text": [
            "Collecting pycryptodome\n",
            "  Downloading pycryptodome-3.20.0-cp35-abi3-manylinux_2_17_x86_64.manylinux2014_x86_64.whl (2.1 MB)\n",
            "\u001b[2K     \u001b[90m━━━━━━━━━━━━━━━━━━━━━━━━━━━━━━━━━━━━━━━━\u001b[0m \u001b[32m2.1/2.1 MB\u001b[0m \u001b[31m14.0 MB/s\u001b[0m eta \u001b[36m0:00:00\u001b[0m\n",
            "\u001b[?25hInstalling collected packages: pycryptodome\n",
            "Successfully installed pycryptodome-3.20.0\n",
            "Collecting pyDes\n",
            "  Downloading pyDes-2.0.1.tar.gz (9.9 kB)\n",
            "  Preparing metadata (setup.py) ... \u001b[?25l\u001b[?25hdone\n",
            "Building wheels for collected packages: pyDes\n",
            "  Building wheel for pyDes (setup.py) ... \u001b[?25l\u001b[?25hdone\n",
            "  Created wheel for pyDes: filename=pyDes-2.0.1-py2.py3-none-any.whl size=9555 sha256=756d9382ecb6d093f90f871c7b4ef4d08cc4f7a735f090216eb02176b9fd1e57\n",
            "  Stored in directory: /root/.cache/pip/wheels/30/04/38/5cb6e4f33d5c481aa1c213e9c1763533e18c717e964bde5bee\n",
            "Successfully built pyDes\n",
            "Installing collected packages: pyDes\n",
            "Successfully installed pyDes-2.0.1\n"
          ]
        }
      ],
      "execution_count": 2
    },
    {
      "cell_type": "code",
      "source": "import pyDes\nfrom time import time\nimport timeit\n\ndef main():\n    # Prompt the user for plaintext input\n    data = input(\"Please enter plain text for encryption: \").encode('utf-8')\n\n    # Prompt the user for a key\n    keystring = input(\"Enter a 16 or 24 byte string for key generation: \").encode('utf-8')\n\n    # Validate key length\n    if len(keystring) not in [16, 24]:\n        print(\"Key must be either 16 or 24 bytes long.\")\n        return\n\n    # Initialize Triple DES cipher\n    try:\n        k = pyDes.triple_des(keystring, pyDes.CBC, IV=None, pad=None, padmode=pyDes.PAD_PKCS5)\n    except ValueError as e:\n        print(f\"Error initializing triple DES: {e}\")\n        return\n\n    # Encrypt the data\n    encrypted_data = k.encrypt(data)\n    print(f\"Cipher text: {repr(encrypted_data)}\")\n\n    # Decrypt the data\n    decrypted_data = k.decrypt(encrypted_data)\n    print(f\"Plain text: {repr(decrypted_data)}\")\n\n    # Measure encryption time for 1,000 iterations\n    start_time = timeit.default_timer()\n    for _ in range(1000):\n        _ = k.encrypt(data)\n    end_time = timeit.default_timer()\n\n    print(f\"Elapsed time for 1,000 encryptions: {end_time - start_time:.3f}s\")\n\nif __name__ == \"__main__\":\n    main()\n",
      "metadata": {
        "colab": {
          "base_uri": "https://localhost:8080/"
        },
        "id": "WGO6OzcBID7a",
        "outputId": "a604d4a2-e91d-428a-db32-13332c99df3b"
      },
      "outputs": [
        {
          "output_type": "stream",
          "name": "stdout",
          "text": [
            "Please enter plain text for encryption: rrrr\n",
            "Enter a 16 or 24 byte string for key generation: aaaaBBBBccccDDDD\n",
            "Cipher text: b'(=3\\xac!9U\\xb4'\n",
            "Plain text: b'rrrr'\n",
            "Elapsed time for 1,000 encryptions: 2.127s\n"
          ]
        }
      ],
      "execution_count": 4
    }
  ]
}