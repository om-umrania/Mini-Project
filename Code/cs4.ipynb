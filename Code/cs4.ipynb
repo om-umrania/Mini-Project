{
 "cells": [
  {
   "cell_type": "markdown",
   "metadata": {},
   "source": [
    "### Assignment 4"
   ]
  },
  {
   "cell_type": "markdown",
   "metadata": {},
   "source": [
    "Name: Om Umrania\n",
    "<br />\n",
    "Roll Number: TEAD21163\n",
    "<br />\n",
    "Subject: Mini-Project"
   ]
  },
  {
   "cell_type": "markdown",
   "metadata": {},
   "source": [
    "#### Importing Library"
   ]
  },
  {
   "cell_type": "code",
   "execution_count": 7,
   "metadata": {
    "executionInfo": {
     "elapsed": 5,
     "status": "ok",
     "timestamp": 1710317283184,
     "user": {
      "displayName": "RANJAN",
      "userId": "04425499395933528986"
     },
     "user_tz": -330
    },
    "id": "hIUjG_yZ02I1"
   },
   "outputs": [],
   "source": [
    "import random\n",
    "from math import gcd"
   ]
  },
  {
   "cell_type": "code",
   "execution_count": 8,
   "metadata": {
    "executionInfo": {
     "elapsed": 5,
     "status": "ok",
     "timestamp": 1710317283184,
     "user": {
      "displayName": "RANJAN",
      "userId": "04425499395933528986"
     },
     "user_tz": -330
    },
    "id": "loY3gtfHz4Zf"
   },
   "outputs": [],
   "source": [
    "def generate_keypair (p, q):\n",
    "\n",
    "  n = p * q\n",
    "  phi_n = (p - 1) * (q - 1)\n",
    "  # Choose a random integer e such that 1 < e < phi(n) and ged(e, phi(n) ) = 1\n",
    "  e = random. randint (2, phi_n - 1)\n",
    "  while gcd(e, phi_n) != 1:\n",
    "       e = random.randint (2, phi_n - 1)\n",
    "  # Compute the modular multiplicative inverse of e modulo phi (n)\n",
    "  d = pow(e, -1, phi_n)\n",
    "  return (n, e), (n, d)"
   ]
  },
  {
   "cell_type": "code",
   "execution_count": 9,
   "metadata": {
    "executionInfo": {
     "elapsed": 4,
     "status": "ok",
     "timestamp": 1710317283184,
     "user": {
      "displayName": "RANJAN",
      "userId": "04425499395933528986"
     },
     "user_tz": -330
    },
    "id": "XQqzApnc0fHK"
   },
   "outputs": [],
   "source": [
    "def encrypt (plaintext, public_key):\n",
    "\n",
    "  n, e = public_key\n",
    "  ciphertext = pow (plaintext, e, n)\n",
    "  return ciphertext"
   ]
  },
  {
   "cell_type": "code",
   "execution_count": 10,
   "metadata": {
    "executionInfo": {
     "elapsed": 4,
     "status": "ok",
     "timestamp": 1710317283184,
     "user": {
      "displayName": "RANJAN",
      "userId": "04425499395933528986"
     },
     "user_tz": -330
    },
    "id": "Uiul5I9j0kuv"
   },
   "outputs": [],
   "source": [
    "def decrypt(ciphertext, private_key):\n",
    "\n",
    "  n, d = private_key\n",
    "  plaintext = pow (ciphertext, d, n)\n",
    "  return plaintext"
   ]
  },
  {
   "cell_type": "code",
   "execution_count": 11,
   "metadata": {
    "colab": {
     "base_uri": "https://localhost:8080/"
    },
    "executionInfo": {
     "elapsed": 4,
     "status": "ok",
     "timestamp": 1710317283184,
     "user": {
      "displayName": "RANJAN",
      "userId": "04425499395933528986"
     },
     "user_tz": -330
    },
    "id": "vp67nSxZ0sjB",
    "outputId": "a9f48515-1c93-4248-9f0b-7426e60befce"
   },
   "outputs": [
    {
     "name": "stdout",
     "output_type": "stream",
     "text": [
      "Public key:  (4482, 3643)\n",
      "Private key:  (4482, 2207)\n"
     ]
    }
   ],
   "source": [
    "# Generate key pair\n",
    "p = 83\n",
    "q = 54\n",
    "public_key, private_key = generate_keypair (p, q)\n",
    "print(\"Public key: \", public_key)\n",
    "print(\"Private key: \", private_key)"
   ]
  },
  {
   "cell_type": "code",
   "execution_count": 12,
   "metadata": {
    "colab": {
     "base_uri": "https://localhost:8080/"
    },
    "executionInfo": {
     "elapsed": 3,
     "status": "ok",
     "timestamp": 1710317025719,
     "user": {
      "displayName": "RANJAN",
      "userId": "04425499395933528986"
     },
     "user_tz": -330
    },
    "id": "uLs-WmcM0vF1",
    "outputId": "d9038422-31f8-4cec-d9d0-6e18f13260c0"
   },
   "outputs": [
    {
     "name": "stdout",
     "output_type": "stream",
     "text": [
      "Ciphertext: 1837\n",
      "Decrypted plaintext: 109\n"
     ]
    }
   ],
   "source": [
    "# Encrypt and Decrypt\n",
    "plaintext = 109\n",
    "\n",
    "# Encrypt plaintext using the public key\n",
    "ciphertext = encrypt(plaintext, public_key)\n",
    "print(\"Ciphertext:\", ciphertext)\n",
    "\n",
    "# Decrypt the ciphertext using the private key\n",
    "decrypted_text = decrypt(ciphertext, private_key)\n",
    "print(\"Decrypted plaintext:\", decrypted_text)"
   ]
  }
 ],
 "metadata": {
  "colab": {
   "authorship_tag": "ABX9TyPWH78huo82MT3G9Xa/emhN",
   "provenance": []
  },
  "kernelspec": {
   "display_name": "Python 3 (ipykernel)",
   "language": "python",
   "name": "python3"
  },
  "language_info": {
   "codemirror_mode": {
    "name": "ipython",
    "version": 3
   },
   "file_extension": ".py",
   "mimetype": "text/x-python",
   "name": "python",
   "nbconvert_exporter": "python",
   "pygments_lexer": "ipython3",
   "version": "3.9.12"
  }
 },
 "nbformat": 4,
 "nbformat_minor": 4
}
