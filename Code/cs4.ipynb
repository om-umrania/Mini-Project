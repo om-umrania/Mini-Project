{
  "metadata": {
    "kernelspec": {
      "name": "python",
      "display_name": "Python (Pyodide)",
      "language": "python"
    },
    "language_info": {
      "codemirror_mode": {
        "name": "python",
        "version": 3
      },
      "file_extension": ".py",
      "mimetype": "text/x-python",
      "name": "python",
      "nbconvert_exporter": "python",
      "pygments_lexer": "ipython3",
      "version": "3.8"
    },
    "colab": {
      "authorship_tag": "ABX9TyPWH78huo82MT3G9Xa/emhN",
      "provenance": []
    }
  },
  "nbformat_minor": 4,
  "nbformat": 4,
  "cells": [
    {
      "cell_type": "markdown",
      "source": "## MINIPROJECT LAB : Assignment 04",
      "metadata": {}
    },
    {
      "cell_type": "code",
      "source": "import random\nfrom math import gcd",
      "metadata": {
        "executionInfo": {
          "elapsed": 5,
          "status": "ok",
          "timestamp": 1710317283184,
          "user": {
            "displayName": "RANJAN",
            "userId": "04425499395933528986"
          },
          "user_tz": -330
        },
        "id": "hIUjG_yZ02I1"
      },
      "outputs": [],
      "execution_count": 1
    },
    {
      "cell_type": "code",
      "source": "def generate_keypair (p, q):\n\n  n = p * q\n  phi_n = (p - 1) * (q - 1)\n  # Choose a random integer e such that 1 < e < phi(n) and ged(e, phi(n) ) = 1\n  e = random. randint (2, phi_n - 1)\n  while gcd(e, phi_n) != 1:\n       e = random.randint (2, phi_n - 1)\n  # Compute the modular multiplicative inverse of e modulo phi (n)\n  d = pow(e, -1, phi_n)\n  return (n, e), (n, d)",
      "metadata": {
        "executionInfo": {
          "elapsed": 5,
          "status": "ok",
          "timestamp": 1710317283184,
          "user": {
            "displayName": "RANJAN",
            "userId": "04425499395933528986"
          },
          "user_tz": -330
        },
        "id": "loY3gtfHz4Zf"
      },
      "outputs": [],
      "execution_count": 2
    },
    {
      "cell_type": "code",
      "source": "def encrypt (plaintext, public_key):\n\n  n, e = public_key\n  ciphertext = pow (plaintext, e, n)\n  return ciphertext",
      "metadata": {
        "executionInfo": {
          "elapsed": 4,
          "status": "ok",
          "timestamp": 1710317283184,
          "user": {
            "displayName": "RANJAN",
            "userId": "04425499395933528986"
          },
          "user_tz": -330
        },
        "id": "XQqzApnc0fHK"
      },
      "outputs": [],
      "execution_count": 3
    },
    {
      "cell_type": "code",
      "source": "def decrypt(ciphertext, private_key):\n\n  n, d = private_key\n  plaintext = pow (ciphertext, d, n)\n  return plaintext",
      "metadata": {
        "executionInfo": {
          "elapsed": 4,
          "status": "ok",
          "timestamp": 1710317283184,
          "user": {
            "displayName": "RANJAN",
            "userId": "04425499395933528986"
          },
          "user_tz": -330
        },
        "id": "Uiul5I9j0kuv"
      },
      "outputs": [],
      "execution_count": 4
    },
    {
      "cell_type": "code",
      "source": "# Generate key pair\np = 61\nq = 53\npublic_key, private_key = generate_keypair (p, q)\nprint(\"Public key: \", public_key)\nprint(\"Private key: \", private_key)",
      "metadata": {
        "colab": {
          "base_uri": "https://localhost:8080/"
        },
        "executionInfo": {
          "elapsed": 4,
          "status": "ok",
          "timestamp": 1710317283184,
          "user": {
            "displayName": "RANJAN",
            "userId": "04425499395933528986"
          },
          "user_tz": -330
        },
        "id": "vp67nSxZ0sjB",
        "outputId": "a9f48515-1c93-4248-9f0b-7426e60befce"
      },
      "outputs": [
        {
          "name": "stdout",
          "output_type": "stream",
          "text": [
            "Public key:  (3233, 2929)\n",
            "Private key:  (3233, 49)\n"
          ]
        }
      ],
      "execution_count": 5
    },
    {
      "cell_type": "code",
      "source": "# Encrypt and Decrypt\nplaintext = 42\n\n# Encrypt plaintext using the public key\nciphertext = encrypt(plaintext, public_key)\nprint(\"Ciphertext:\", ciphertext)\n\n# Decrypt the ciphertext using the private key\ndecrypted_text = decrypt(ciphertext, private_key)\nprint(\"Decrypted plaintext:\", decrypted_text)\n",
      "metadata": {
        "colab": {
          "base_uri": "https://localhost:8080/"
        },
        "executionInfo": {
          "elapsed": 3,
          "status": "ok",
          "timestamp": 1710317025719,
          "user": {
            "displayName": "RANJAN",
            "userId": "04425499395933528986"
          },
          "user_tz": -330
        },
        "id": "uLs-WmcM0vF1",
        "outputId": "d9038422-31f8-4cec-d9d0-6e18f13260c0"
      },
      "outputs": [
        {
          "name": "stdout",
          "output_type": "stream",
          "text": [
            "Ciphertext: 1550\n",
            "Decrypted plaintext: 42\n"
          ]
        }
      ],
      "execution_count": 6
    }
  ]
}