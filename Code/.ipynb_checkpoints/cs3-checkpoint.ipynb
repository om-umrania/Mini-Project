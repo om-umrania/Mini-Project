{
  "metadata": {
    "kernelspec": {
      "name": "python",
      "display_name": "Python (Pyodide)",
      "language": "python"
    },
    "language_info": {
      "codemirror_mode": {
        "name": "python",
        "version": 3
      },
      "file_extension": ".py",
      "mimetype": "text/x-python",
      "name": "python",
      "nbconvert_exporter": "python",
      "pygments_lexer": "ipython3",
      "version": "3.8"
    },
    "colab": {
      "provenance": []
    }
  },
  "nbformat_minor": 4,
  "nbformat": 4,
  "cells": [
    {
      "cell_type": "markdown",
      "source": "## Miniproject LAB :Assignment 03",
      "metadata": {}
    },
    {
      "cell_type": "code",
      "source": "from random import randint",
      "metadata": {
        "id": "LSxkPTrqa5RL"
      },
      "outputs": [],
      "execution_count": 1
    },
    {
      "cell_type": "code",
      "source": "# Both the persons will be agreed upon the\n# public keys G and P\n# A prime number P is taken\nP = 23\n# A primitive root for P, G is taken\nG = 9\nprint( 'The Value of P is :%d'%(P))\nprint('The Value of G is :%d'%(G))",
      "metadata": {
        "colab": {
          "base_uri": "https://localhost:8080/"
        },
        "id": "Whx9NtvEbBWM",
        "outputId": "e38211a6-73be-4657-9462-ad53670af575"
      },
      "outputs": [
        {
          "output_type": "stream",
          "name": "stdout",
          "text": [
            "The Value of P is :23\n",
            "The Value of G is :9\n"
          ]
        }
      ],
      "execution_count": 2
    },
    {
      "cell_type": "code",
      "source": "# Alice will choose the private key a\na = 4\nprint ('The Private Key a for Alice is :%d'%(a))",
      "metadata": {
        "colab": {
          "base_uri": "https://localhost:8080/"
        },
        "id": "swbX90MIbHIR",
        "outputId": "7b3bbb81-3a0b-4123-e63c-eb7737a2167c"
      },
      "outputs": [
        {
          "output_type": "stream",
          "name": "stdout",
          "text": [
            "The Private Key a for Alice is :4\n"
          ]
        }
      ],
      "execution_count": 3
    },
    {
      "cell_type": "code",
      "source": "# gets the generated key\nx = int (pow(G, a,P))\n# Bob will choose the private key b\nb = 3\n\nprint ('The Private Key b for Bob is :%d'% (b))",
      "metadata": {
        "colab": {
          "base_uri": "https://localhost:8080/"
        },
        "id": "qVhOVFhubPxm",
        "outputId": "a53e3962-f9b9-4d44-db89-8d2df33bd1e4"
      },
      "outputs": [
        {
          "output_type": "stream",
          "name": "stdout",
          "text": [
            "The Private Key b for Bob is :3\n"
          ]
        }
      ],
      "execution_count": 4
    },
    {
      "cell_type": "code",
      "source": "# gets the generated key\ny = int (pow (G, b,P))\n# Secret key for Alice\nka = int (pow(y, a,P))\n# Secret key for Bob\nkb = int (pow(x, b,P))\nprint('Secret key for the Alice is : %d'% (ka))\nprint('Secret Key for the Bob is : %d'% (kb))",
      "metadata": {
        "colab": {
          "base_uri": "https://localhost:8080/"
        },
        "id": "EMa5L-YNbVei",
        "outputId": "fb5ddb66-8a74-48fa-9e3e-97f3cba15caf"
      },
      "outputs": [
        {
          "output_type": "stream",
          "name": "stdout",
          "text": [
            "Secret key for the Alice is : 9\n",
            "Secret Key for the Bob is : 9\n"
          ]
        }
      ],
      "execution_count": 5
    }
  ]
}