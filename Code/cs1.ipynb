{
  "metadata": {
    "kernelspec": {
      "name": "python",
      "display_name": "Python (Pyodide)",
      "language": "python"
    },
    "language_info": {
      "codemirror_mode": {
        "name": "python",
        "version": 3
      },
      "file_extension": ".py",
      "mimetype": "text/x-python",
      "name": "python",
      "nbconvert_exporter": "python",
      "pygments_lexer": "ipython3",
      "version": "3.8"
    },
    "colab": {
      "provenance": []
    }
  },
  "nbformat_minor": 4,
  "nbformat": 4,
  "cells": [
    {
      "cell_type": "markdown",
      "source": "## MINIPROJECT LAB : Assignment 02",
      "metadata": {}
    },
    {
      "cell_type": "code",
      "source": "!pip install pycryptodome\n!pip install pyDes",
      "metadata": {
        "colab": {
          "base_uri": "https://localhost:8080/"
        },
        "id": "jY1GAL8OHUAO",
        "outputId": "ee3cd2d2-d036-418c-8f3e-f38da87c81df"
      },
      "outputs": [
        {
          "output_type": "stream",
          "name": "stdout",
          "text": [
            "Collecting pycryptodome\n",
            "  Downloading pycryptodome-3.20.0-cp35-abi3-manylinux_2_17_x86_64.manylinux2014_x86_64.whl (2.1 MB)\n",
            "\u001b[2K     \u001b[90m━━━━━━━━━━━━━━━━━━━━━━━━━━━━━━━━━━━━━━━━\u001b[0m \u001b[32m2.1/2.1 MB\u001b[0m \u001b[31m12.8 MB/s\u001b[0m eta \u001b[36m0:00:00\u001b[0m\n",
            "\u001b[?25hInstalling collected packages: pycryptodome\n",
            "Successfully installed pycryptodome-3.20.0\n",
            "Collecting pyDes\n",
            "  Downloading pyDes-2.0.1.tar.gz (9.9 kB)\n",
            "  Preparing metadata (setup.py) ... \u001b[?25l\u001b[?25hdone\n",
            "Building wheels for collected packages: pyDes\n",
            "  Building wheel for pyDes (setup.py) ... \u001b[?25l\u001b[?25hdone\n",
            "  Created wheel for pyDes: filename=pyDes-2.0.1-py2.py3-none-any.whl size=9555 sha256=50e37cb8c271ec2d3a0191b157c06276094856a0482f11d5fda12cb2165fc0f7\n",
            "  Stored in directory: /root/.cache/pip/wheels/30/04/38/5cb6e4f33d5c481aa1c213e9c1763533e18c717e964bde5bee\n",
            "Successfully built pyDes\n",
            "Installing collected packages: pyDes\n",
            "Successfully installed pyDes-2.0.1\n"
          ]
        }
      ],
      "execution_count": 2
    },
    {
      "cell_type": "code",
      "source": "from Crypto.Cipher import AES\nfrom Crypto.Util.Padding import pad, unpad\nfrom Crypto.Random import get_random_bytes\n\ndef get_padded_key(key):\n    # Ensure the key is properly padded to 16, 24, or 32 bytes\n    return pad(key.encode(), AES.block_size)\n\ndef encrypt(plain_text, key):\n    # Pad the key and plaintext\n    padded_key = get_padded_key(key)\n    padded_text = pad(plain_text.encode(), AES.block_size)\n\n    # Generate a random IV\n    iv = get_random_bytes(AES.block_size)\n\n    # Create cipher object and encrypt\n    cipher = AES.new(padded_key, AES.MODE_CBC, iv)\n    encrypted_text = cipher.encrypt(padded_text)\n\n    # Return IV + encrypted_text to ensure IV is available for decryption\n    return iv + encrypted_text\n\ndef decrypt(encrypted_message, key):\n    # Separate the IV from the rest of the encrypted message\n    iv = encrypted_message[:AES.block_size]\n    encrypted_text = encrypted_message[AES.block_size:]\n\n    # Pad the key\n    padded_key = get_padded_key(key)\n\n    # Decrypt\n    cipher = AES.new(padded_key, AES.MODE_CBC, iv)\n    decrypted_text = unpad(cipher.decrypt(encrypted_text), AES.block_size)\n\n    return decrypted_text.decode()\n\n# Get user input\nplain_input = input(\"Enter the text to be encrypted: \")\nkey_input = input(\"Enter in a key (will be padded if not 16, 24, or 32 characters): \")\n\n# Check key length (not strictly necessary with padding but good for demonstration)\nif not (16 <= len(key_input) <= 32):\n    print(\"Key must be between 16 and 32 characters for raw AES keys without padding!\")\nelse:\n    # Encrypt\n    encrypted_message = encrypt(plain_input, key_input)\n    print(\"Encrypted:\", encrypted_message)\n\n    # Decrypt\n    decrypted_message = decrypt(encrypted_message, key_input)\n    print(\"Decrypted:\", decrypted_message)",
      "metadata": {
        "colab": {
          "base_uri": "https://localhost:8080/"
        },
        "id": "8zrmhMemHAAH",
        "outputId": "eec093c9-562c-4f67-af19-06d04a6f3ff7"
      },
      "outputs": [
        {
          "output_type": "stream",
          "name": "stdout",
          "text": [
            "Enter the text to be encrypted: rugved\n",
            "Enter in a key (will be padded if not 16, 24, or 32 characters): AAAABBBBCCCCDDDD\n",
            "Encrypted: b'\\xffD\\xca\\xbb\\xb3O\\xb7\\xad\\rA\\xa2\\xa1\\x8bP}\\xbe>F\\x93\\xadx\\xaa\\xd0d\\xcbN\\xe7S\\xd9\\xbc\\xa1\\x97'\n",
            "Decrypted: rugved\n"
          ]
        }
      ],
      "execution_count": 4
    }
  ]
}