{
 "cells": [
  {
   "cell_type": "markdown",
   "metadata": {},
   "source": [
    "### Assignment 1"
   ]
  },
  {
   "cell_type": "markdown",
   "metadata": {},
   "source": [
    "Name: Om Umrania\n",
    "<br />\n",
    "Roll Number: TEAD21163\n",
    "<br />\n",
    "Subject: Mini-Project"
   ]
  },
  {
   "cell_type": "markdown",
   "metadata": {},
   "source": [
    "#### Installation of Library"
   ]
  },
  {
   "cell_type": "code",
   "execution_count": 1,
   "metadata": {
    "colab": {
     "base_uri": "https://localhost:8080/"
    },
    "id": "wqnLbrZlIT60",
    "outputId": "62339e54-2d07-4b0c-9a77-9f87bc2b126d"
   },
   "outputs": [
    {
     "name": "stdout",
     "output_type": "stream",
     "text": [
      "Requirement already satisfied: pycryptodome in /Users/omumrania/opt/anaconda3/lib/python3.9/site-packages (3.20.0)\n",
      "Requirement already satisfied: pyDes in /Users/omumrania/opt/anaconda3/lib/python3.9/site-packages (2.0.1)\n"
     ]
    }
   ],
   "source": [
    "!pip install pycryptodome\n",
    "!pip install pyDes"
   ]
  },
  {
   "cell_type": "markdown",
   "metadata": {},
   "source": [
    "#### Importing Library"
   ]
  },
  {
   "cell_type": "code",
   "execution_count": 2,
   "metadata": {},
   "outputs": [],
   "source": [
    "import pyDes\n",
    "from time import time\n",
    "import timeit"
   ]
  },
  {
   "cell_type": "code",
   "execution_count": 3,
   "metadata": {
    "colab": {
     "base_uri": "https://localhost:8080/"
    },
    "id": "WGO6OzcBID7a",
    "outputId": "a604d4a2-e91d-428a-db32-13332c99df3b"
   },
   "outputs": [
    {
     "name": "stdin",
     "output_type": "stream",
     "text": [
      "Please enter plain text for encryption:  Hello World!\n",
      "Enter a 16 or 24 byte string for key generation:  ababBABAcdcdDCDC\n"
     ]
    },
    {
     "name": "stdout",
     "output_type": "stream",
     "text": [
      "Cipher text: b'\\xe6\\xc1\\xdabL(\\x0b\\x10\\xb2\\xa8\\xd4\\xb0\\xe2omK'\n",
      "Plain text: b'Hello World!'\n",
      "Elapsed time for 1,000 encryptions: 3.048s\n"
     ]
    }
   ],
   "source": [
    "def main():\n",
    "    # Prompt the user for plaintext input\n",
    "    data = input(\"Please enter plain text for encryption: \").encode('utf-8')\n",
    "\n",
    "    # Prompt the user for a key\n",
    "    keystring = input(\"Enter a 16 or 24 byte string for key generation: \").encode('utf-8')\n",
    "\n",
    "    # Validate key length\n",
    "    if len(keystring) not in [16, 24]:\n",
    "        print(\"Key must be either 16 or 24 bytes long.\")\n",
    "        return\n",
    "\n",
    "    # Initialize Triple DES cipher\n",
    "    try:\n",
    "        k = pyDes.triple_des(keystring, pyDes.CBC, IV=None, pad=None, padmode=pyDes.PAD_PKCS5)\n",
    "    except ValueError as e:\n",
    "        print(f\"Error initializing triple DES: {e}\")\n",
    "        return\n",
    "\n",
    "    # Encrypt the data\n",
    "    encrypted_data = k.encrypt(data)\n",
    "    print(f\"Cipher text: {repr(encrypted_data)}\")\n",
    "\n",
    "    # Decrypt the data\n",
    "    decrypted_data = k.decrypt(encrypted_data)\n",
    "    print(f\"Plain text: {repr(decrypted_data)}\")\n",
    "\n",
    "    # Measure encryption time for 1,000 iterations\n",
    "    start_time = timeit.default_timer()\n",
    "    for _ in range(1000):\n",
    "        _ = k.encrypt(data)\n",
    "    end_time = timeit.default_timer()\n",
    "\n",
    "    print(f\"Elapsed time for 1,000 encryptions: {end_time - start_time:.3f}s\")\n",
    "\n",
    "\n",
    "if __name__ == \"__main__\":\n",
    "    main()\n"
   ]
  }
 ],
 "metadata": {
  "colab": {
   "provenance": []
  },
  "kernelspec": {
   "display_name": "Python 3 (ipykernel)",
   "language": "python",
   "name": "python3"
  },
  "language_info": {
   "codemirror_mode": {
    "name": "ipython",
    "version": 3
   },
   "file_extension": ".py",
   "mimetype": "text/x-python",
   "name": "python",
   "nbconvert_exporter": "python",
   "pygments_lexer": "ipython3",
   "version": "3.9.12"
  }
 },
 "nbformat": 4,
 "nbformat_minor": 4
}
